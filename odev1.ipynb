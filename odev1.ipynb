{
  "nbformat": 4,
  "nbformat_minor": 0,
  "metadata": {
    "colab": {
      "provenance": [],
      "authorship_tag": "ABX9TyNdZX59CP4HWIlCtE3cH9yV",
      "include_colab_link": true
    },
    "kernelspec": {
      "name": "python3",
      "display_name": "Python 3"
    },
    "language_info": {
      "name": "python"
    }
  },
  "cells": [
    {
      "cell_type": "markdown",
      "metadata": {
        "id": "view-in-github",
        "colab_type": "text"
      },
      "source": [
        "<a href=\"https://colab.research.google.com/github/eneskesikbas/web1/blob/main/odev1.ipynb\" target=\"_parent\"><img src=\"https://colab.research.google.com/assets/colab-badge.svg\" alt=\"Open In Colab\"/></a>"
      ]
    },
    {
      "cell_type": "markdown",
      "source": [
        "Cevap 1"
      ],
      "metadata": {
        "id": "YRZkC03geZUq"
      }
    },
    {
      "cell_type": "code",
      "source": [
        "kelvin = 400\n",
        "celsius = kelvin - 273.15\n",
        "print(f\"{kelvin} Kelvin, {celsius:.2f} Celsius derecesine eşittir.\")"
      ],
      "metadata": {
        "id": "KOI8T3pzeanN"
      },
      "execution_count": null,
      "outputs": []
    },
    {
      "cell_type": "markdown",
      "source": [
        "Cevap 2"
      ],
      "metadata": {
        "id": "vGhhGQKVed7q"
      }
    },
    {
      "cell_type": "code",
      "source": [
        "import math\n",
        "\n",
        "yaricap = 1.5\n",
        "alan = math.pi * yaricap ** 2\n",
        "cevre = 2 * math.pi * yaricap\n",
        "\n",
        "print(f\"Dairenin yarı çapı: {yaricap} cm\")\n",
        "print(f\"Dairenin alanı: {alan:.2f} cm^2\")\n",
        "print(f\"Dairenin çevresi: {cevre:.2f} cm\")"
      ],
      "metadata": {
        "id": "UnqjWzvLefQN"
      },
      "execution_count": null,
      "outputs": []
    },
    {
      "cell_type": "markdown",
      "source": [
        "Cevap 3"
      ],
      "metadata": {
        "id": "a05sKnDEehZI"
      }
    },
    {
      "cell_type": "code",
      "source": [
        "sayi = int(input(\"Dört basamaklı bir sayı girin: \"))\n",
        "\n",
        "ilk_basamak = sayi // 1000\n",
        "son_basamak = sayi % 10\n",
        "toplam = ilk_basamak + son_basamak\n",
        "\n",
        "print(f\"{sayi} sayısının ilk basamağı ({ilk_basamak}) ve son basamağı ({son_basamak}) toplamı: {toplam}\")"
      ],
      "metadata": {
        "id": "5vW-BwVVekod"
      },
      "execution_count": null,
      "outputs": []
    },
    {
      "cell_type": "markdown",
      "source": [
        "Cevap 4"
      ],
      "metadata": {
        "id": "ZVCzCFEuenY3"
      }
    },
    {
      "cell_type": "code",
      "source": [
        "hiz_kmh = 110\n",
        "toplam_mesafe_km = 500\n",
        "hiz_kms = hiz_kmh / 60\n",
        "sure_saat = toplam_mesafe_km / hiz_kmh\n",
        "sure_dakika = sure_saat * 60\n",
        "\n",
        "print(f\"{hiz_kmh} km/saat hızla {toplam_mesafe_km} km yol kat ederseniz,\")\n",
        "print(f\"Bu yolu {sure_saat:.2f} saat veya {sure_dakika:.2f} dakikada gidersiniz.\")"
      ],
      "metadata": {
        "id": "TtOXEAmWepNT"
      },
      "execution_count": null,
      "outputs": []
    }
  ]
}